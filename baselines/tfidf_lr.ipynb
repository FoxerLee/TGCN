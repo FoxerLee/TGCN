{
 "cells": [
  {
   "cell_type": "code",
   "execution_count": 1,
   "metadata": {},
   "outputs": [],
   "source": [
    "import pandas as pd\n",
    "import numpy as np\n",
    "\n",
    "from sklearn.feature_extraction.text import TfidfVectorizer\n",
    "from sklearn.linear_model import LogisticRegression\n",
    "from sklearn.metrics import accuracy_score"
   ]
  },
  {
   "cell_type": "code",
   "execution_count": 10,
   "metadata": {},
   "outputs": [],
   "source": [
    "# dataset = 'R8'\n",
    "dataset = 'CHINESE'"
   ]
  },
  {
   "cell_type": "code",
   "execution_count": 11,
   "metadata": {},
   "outputs": [],
   "source": [
    "doc_content_list = []\n",
    "\n",
    "with open('../cleaned_data/' + dataset + '/corpus/' + dataset + '.txt', 'r') as f:\n",
    "    for line in f.readlines():\n",
    "        doc_content_list.append(line.strip())"
   ]
  },
  {
   "cell_type": "code",
   "execution_count": 12,
   "metadata": {},
   "outputs": [
    {
     "name": "stdout",
     "output_type": "stream",
     "text": [
      "大 号 实用 专家   图解 雷诺 全新 一代 风景                                                                                         |                     |                     |               |               |         风景 长度 仅 有 4.34 m ， 与 一般 的 紧凑型 两厢 轿车 相当 。 延续 之前 的 短头 造型 ， 使 室内 乘坐 空间 达到 最大化 。 高 车身 设计 让 风景 拥有 大面积 的 风挡 玻璃 ， 加之 全景 天窗 的 运用 ， 风景 室内 视野 十分 广阔 。       下 窗沿 于 C 柱处 上 挑 收尾 ， 与 日产 骊威 颇 有 几分 相似 ， 不过 前倾 明显 的 腰线 将 两者 明显 区分 开来 ， 张力 十足 的 车侧 设计 让 风景 带上 几分 动感 ， 更显 活力 。 车身 下裙 处 与 车身 同色 护板 的 运用 更是 将 视觉 重心 拉低 ， 巧妙 地 隐藏 了 风景 的 高度 。           延续 上 一代 车型 的 大尾门 的 设计 ， 低矮 的 行李箱 高度 便于 装卸 较 重 行李 。 除此之外 ， 你 难以 找到 两代 车型 尾部 设计 的 相同点 。 全新 的 L 形 大灯 更显 时尚 ， 如上 翘 的 眉毛 ， 让 尾部 设计 更富 灵性 。 而 LED 光源 的 运用 则 让 新车 拥有 更 高 的 行车 安全 性能 。       与 前翼子板 一致 ， 后翼 子板 处 同样 夸张 地 隆起 ， 外 抛 的 轮眉 延伸 至后 保险杠 处 ， 虚化 车侧 与 车尾 的 界限 。 此类 设计 可 尽量 降低 后 悬 长度 ， 将 四轮 尽量 挪至 四角 ， 达到 短 车身 长轴距 的 效果 。\n"
     ]
    }
   ],
   "source": [
    "print(doc_content_list[0])"
   ]
  },
  {
   "cell_type": "code",
   "execution_count": 13,
   "metadata": {},
   "outputs": [],
   "source": [
    "doc_label_list = []\n",
    "with open('../cleaned_data/' + dataset + '/' + dataset + '.txt', 'r') as f:\n",
    "    for line in f.readlines():\n",
    "        doc_label_list.append(line.strip().split())"
   ]
  },
  {
   "cell_type": "code",
   "execution_count": 14,
   "metadata": {},
   "outputs": [],
   "source": [
    "doc_label_list = np.array(doc_label_list)"
   ]
  },
  {
   "cell_type": "code",
   "execution_count": 15,
   "metadata": {},
   "outputs": [
    {
     "name": "stdout",
     "output_type": "stream",
     "text": [
      "['train' 'train' 'train' ... 'test' 'test' 'test']\n"
     ]
    }
   ],
   "source": [
    "print(doc_label_list[:,1])"
   ]
  },
  {
   "cell_type": "code",
   "execution_count": 16,
   "metadata": {},
   "outputs": [],
   "source": [
    "df = pd.DataFrame()"
   ]
  },
  {
   "cell_type": "code",
   "execution_count": 17,
   "metadata": {},
   "outputs": [],
   "source": [
    "df['content'] = doc_content_list\n",
    "df['set'] = doc_label_list[:,1]\n",
    "df['label'] = doc_label_list[:,2]"
   ]
  },
  {
   "cell_type": "code",
   "execution_count": 18,
   "metadata": {},
   "outputs": [
    {
     "data": {
      "text/html": [
       "<div>\n",
       "<style scoped>\n",
       "    .dataframe tbody tr th:only-of-type {\n",
       "        vertical-align: middle;\n",
       "    }\n",
       "\n",
       "    .dataframe tbody tr th {\n",
       "        vertical-align: top;\n",
       "    }\n",
       "\n",
       "    .dataframe thead th {\n",
       "        text-align: right;\n",
       "    }\n",
       "</style>\n",
       "<table border=\"1\" class=\"dataframe\">\n",
       "  <thead>\n",
       "    <tr style=\"text-align: right;\">\n",
       "      <th></th>\n",
       "      <th>content</th>\n",
       "      <th>set</th>\n",
       "      <th>label</th>\n",
       "    </tr>\n",
       "  </thead>\n",
       "  <tbody>\n",
       "    <tr>\n",
       "      <th>0</th>\n",
       "      <td>大 号 实用 专家   图解 雷诺 全新 一代 风景                    ...</td>\n",
       "      <td>train</td>\n",
       "      <td>4</td>\n",
       "    </tr>\n",
       "    <tr>\n",
       "      <th>1</th>\n",
       "      <td>4 岁 的 小女孩 童童 ( 化名 ) 最近 变 了 样子 ， 她 的 脖子 出现 了 一圈...</td>\n",
       "      <td>train</td>\n",
       "      <td>5</td>\n",
       "    </tr>\n",
       "    <tr>\n",
       "      <th>2</th>\n",
       "      <td>资源税 改 , 新疆 先行 - 关于 在 新疆 率先 实施 资源 税费 改革 的 点评   ...</td>\n",
       "      <td>train</td>\n",
       "      <td>1</td>\n",
       "    </tr>\n",
       "    <tr>\n",
       "      <th>3</th>\n",
       "      <td>网易 体育 3 月 5 日 消息   在 圣 西罗 全省 而 退 ， 他们 不仅 将 米兰 ...</td>\n",
       "      <td>train</td>\n",
       "      <td>3</td>\n",
       "    </tr>\n",
       "    <tr>\n",
       "      <th>4</th>\n",
       "      <td>网易 体育 4 月 8 日 消息   常规赛 进入 收官 阶段 ， 谁 能 获得 今年 常规...</td>\n",
       "      <td>train</td>\n",
       "      <td>3</td>\n",
       "    </tr>\n",
       "  </tbody>\n",
       "</table>\n",
       "</div>"
      ],
      "text/plain": [
       "                                             content    set label\n",
       "0  大 号 实用 专家   图解 雷诺 全新 一代 风景                    ...  train     4\n",
       "1  4 岁 的 小女孩 童童 ( 化名 ) 最近 变 了 样子 ， 她 的 脖子 出现 了 一圈...  train     5\n",
       "2  资源税 改 , 新疆 先行 - 关于 在 新疆 率先 实施 资源 税费 改革 的 点评   ...  train     1\n",
       "3  网易 体育 3 月 5 日 消息   在 圣 西罗 全省 而 退 ， 他们 不仅 将 米兰 ...  train     3\n",
       "4  网易 体育 4 月 8 日 消息   常规赛 进入 收官 阶段 ， 谁 能 获得 今年 常规...  train     3"
      ]
     },
     "execution_count": 18,
     "metadata": {},
     "output_type": "execute_result"
    }
   ],
   "source": [
    "df.head()"
   ]
  },
  {
   "cell_type": "code",
   "execution_count": 19,
   "metadata": {},
   "outputs": [],
   "source": [
    "train_df = df.loc[df['set'] == 'train']\n",
    "test_df = df.loc[df['set'] == 'test']"
   ]
  },
  {
   "cell_type": "code",
   "execution_count": 20,
   "metadata": {},
   "outputs": [],
   "source": [
    "X_train, y_train = train_df['content'].to_numpy(), train_df['label'].to_numpy()\n",
    "X_test, y_test = test_df['content'].to_numpy(), test_df['label'].to_numpy()"
   ]
  },
  {
   "cell_type": "code",
   "execution_count": 21,
   "metadata": {},
   "outputs": [],
   "source": [
    "vectorizer = TfidfVectorizer()"
   ]
  },
  {
   "cell_type": "code",
   "execution_count": 22,
   "metadata": {},
   "outputs": [],
   "source": [
    "X_train_tv = vectorizer.fit_transform(X_train)\n",
    "X_test_tv = vectorizer.transform(X_test)"
   ]
  },
  {
   "cell_type": "code",
   "execution_count": 23,
   "metadata": {},
   "outputs": [],
   "source": [
    "lr = LogisticRegression(random_state=0)"
   ]
  },
  {
   "cell_type": "code",
   "execution_count": 24,
   "metadata": {},
   "outputs": [
    {
     "data": {
      "text/plain": [
       "LogisticRegression(random_state=0)"
      ]
     },
     "execution_count": 24,
     "metadata": {},
     "output_type": "execute_result"
    }
   ],
   "source": [
    "lr.fit(X_train_tv, y_train)"
   ]
  },
  {
   "cell_type": "code",
   "execution_count": 25,
   "metadata": {},
   "outputs": [],
   "source": [
    "y_pre = lr.predict(X_test_tv)"
   ]
  },
  {
   "cell_type": "code",
   "execution_count": 26,
   "metadata": {},
   "outputs": [
    {
     "data": {
      "text/plain": [
       "0.9575"
      ]
     },
     "execution_count": 26,
     "metadata": {},
     "output_type": "execute_result"
    }
   ],
   "source": [
    "accuracy_score(y_test, y_pre)"
   ]
  },
  {
   "cell_type": "code",
   "execution_count": null,
   "metadata": {},
   "outputs": [],
   "source": []
  }
 ],
 "metadata": {
  "kernelspec": {
   "display_name": "Python 3",
   "language": "python",
   "name": "python3"
  },
  "language_info": {
   "codemirror_mode": {
    "name": "ipython",
    "version": 3
   },
   "file_extension": ".py",
   "mimetype": "text/x-python",
   "name": "python",
   "nbconvert_exporter": "python",
   "pygments_lexer": "ipython3",
   "version": "3.8.3"
  }
 },
 "nbformat": 4,
 "nbformat_minor": 4
}
