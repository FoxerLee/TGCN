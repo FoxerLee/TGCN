{
 "cells": [
  {
   "cell_type": "code",
   "execution_count": 1,
   "metadata": {},
   "outputs": [],
   "source": [
    "import fasttext\n",
    "\n",
    "import pandas as pd\n",
    "import numpy as np"
   ]
  },
  {
   "cell_type": "code",
   "execution_count": 2,
   "metadata": {},
   "outputs": [],
   "source": [
    "# dataset = 'R8'\n",
    "dataset = 'CHINESE'"
   ]
  },
  {
   "cell_type": "code",
   "execution_count": 3,
   "metadata": {},
   "outputs": [
    {
     "data": {
      "text/html": [
       "<div>\n",
       "<style scoped>\n",
       "    .dataframe tbody tr th:only-of-type {\n",
       "        vertical-align: middle;\n",
       "    }\n",
       "\n",
       "    .dataframe tbody tr th {\n",
       "        vertical-align: top;\n",
       "    }\n",
       "\n",
       "    .dataframe thead th {\n",
       "        text-align: right;\n",
       "    }\n",
       "</style>\n",
       "<table border=\"1\" class=\"dataframe\">\n",
       "  <thead>\n",
       "    <tr style=\"text-align: right;\">\n",
       "      <th></th>\n",
       "      <th>content</th>\n",
       "      <th>set</th>\n",
       "      <th>label</th>\n",
       "    </tr>\n",
       "  </thead>\n",
       "  <tbody>\n",
       "    <tr>\n",
       "      <th>0</th>\n",
       "      <td>大 号 实用 专家   图解 雷诺 全新 一代 风景                    ...</td>\n",
       "      <td>train</td>\n",
       "      <td>4</td>\n",
       "    </tr>\n",
       "    <tr>\n",
       "      <th>1</th>\n",
       "      <td>4 岁 的 小女孩 童童 ( 化名 ) 最近 变 了 样子 ， 她 的 脖子 出现 了 一圈...</td>\n",
       "      <td>train</td>\n",
       "      <td>5</td>\n",
       "    </tr>\n",
       "    <tr>\n",
       "      <th>2</th>\n",
       "      <td>资源税 改 , 新疆 先行 - 关于 在 新疆 率先 实施 资源 税费 改革 的 点评   ...</td>\n",
       "      <td>train</td>\n",
       "      <td>1</td>\n",
       "    </tr>\n",
       "    <tr>\n",
       "      <th>3</th>\n",
       "      <td>网易 体育 3 月 5 日 消息   在 圣 西罗 全省 而 退 ， 他们 不仅 将 米兰 ...</td>\n",
       "      <td>train</td>\n",
       "      <td>3</td>\n",
       "    </tr>\n",
       "    <tr>\n",
       "      <th>4</th>\n",
       "      <td>网易 体育 4 月 8 日 消息   常规赛 进入 收官 阶段 ， 谁 能 获得 今年 常规...</td>\n",
       "      <td>train</td>\n",
       "      <td>3</td>\n",
       "    </tr>\n",
       "  </tbody>\n",
       "</table>\n",
       "</div>"
      ],
      "text/plain": [
       "                                             content    set label\n",
       "0  大 号 实用 专家   图解 雷诺 全新 一代 风景                    ...  train     4\n",
       "1  4 岁 的 小女孩 童童 ( 化名 ) 最近 变 了 样子 ， 她 的 脖子 出现 了 一圈...  train     5\n",
       "2  资源税 改 , 新疆 先行 - 关于 在 新疆 率先 实施 资源 税费 改革 的 点评   ...  train     1\n",
       "3  网易 体育 3 月 5 日 消息   在 圣 西罗 全省 而 退 ， 他们 不仅 将 米兰 ...  train     3\n",
       "4  网易 体育 4 月 8 日 消息   常规赛 进入 收官 阶段 ， 谁 能 获得 今年 常规...  train     3"
      ]
     },
     "execution_count": 3,
     "metadata": {},
     "output_type": "execute_result"
    }
   ],
   "source": [
    "doc_content_list = []\n",
    "\n",
    "with open('../cleaned_data/' + dataset + '/corpus/' + dataset + '.txt', 'r') as f:\n",
    "    for line in f.readlines():\n",
    "        doc_content_list.append(line.strip())\n",
    "        \n",
    "doc_label_list = []\n",
    "with open('../cleaned_data/' + dataset + '/' + dataset + '.txt', 'r') as f:\n",
    "    for line in f.readlines():\n",
    "        doc_label_list.append(line.strip().split())\n",
    "\n",
    "doc_label_list = np.array(doc_label_list)\n",
    "\n",
    "df = pd.DataFrame()\n",
    "\n",
    "\n",
    "df['content'] = doc_content_list\n",
    "df['set'] = doc_label_list[:,1]\n",
    "df['label'] = doc_label_list[:,2]\n",
    "\n",
    "df.head()"
   ]
  },
  {
   "cell_type": "code",
   "execution_count": 4,
   "metadata": {},
   "outputs": [],
   "source": [
    "train_df = df.loc[df['set'] == 'train']\n",
    "test_df = df.loc[df['set'] == 'test']"
   ]
  },
  {
   "cell_type": "code",
   "execution_count": 5,
   "metadata": {},
   "outputs": [],
   "source": [
    "train = train_df[['content', 'label']].to_numpy()"
   ]
  },
  {
   "cell_type": "code",
   "execution_count": 6,
   "metadata": {},
   "outputs": [],
   "source": [
    "with open('../cleaned_data/' + dataset + '/fastText/' + dataset + '_train.txt', 'w') as f:\n",
    "    for d in train:\n",
    "        line = '__label__'+d[1]+' '+d[0]+'\\n'\n",
    "        f.write(line)\n",
    "f.close()"
   ]
  },
  {
   "cell_type": "code",
   "execution_count": 7,
   "metadata": {},
   "outputs": [],
   "source": [
    "test = test_df[['content', 'label']].to_numpy()\n",
    "with open('../cleaned_data/' + dataset + '/fastText/' + dataset + '_test.txt', 'w') as f:\n",
    "    for d in test:\n",
    "        line = '__label__'+d[1]+' '+d[0]+'\\n'\n",
    "        f.write(line)\n",
    "f.close()"
   ]
  },
  {
   "cell_type": "code",
   "execution_count": 8,
   "metadata": {},
   "outputs": [],
   "source": [
    "model = fasttext.train_supervised(input='../cleaned_data/' + dataset + '/fastText/' + dataset + '_train.txt', lr=0.5, epoch=10)"
   ]
  },
  {
   "cell_type": "code",
   "execution_count": 9,
   "metadata": {},
   "outputs": [
    {
     "data": {
      "text/plain": [
       "(1200, 0.9583333333333334, 0.9583333333333334)"
      ]
     },
     "execution_count": 9,
     "metadata": {},
     "output_type": "execute_result"
    }
   ],
   "source": [
    "model.test('../cleaned_data/' + dataset + '/fastText/' + dataset + '_test.txt')"
   ]
  },
  {
   "cell_type": "code",
   "execution_count": null,
   "metadata": {},
   "outputs": [],
   "source": []
  }
 ],
 "metadata": {
  "kernelspec": {
   "display_name": "Python 3",
   "language": "python",
   "name": "python3"
  },
  "language_info": {
   "codemirror_mode": {
    "name": "ipython",
    "version": 3
   },
   "file_extension": ".py",
   "mimetype": "text/x-python",
   "name": "python",
   "nbconvert_exporter": "python",
   "pygments_lexer": "ipython3",
   "version": "3.8.3"
  }
 },
 "nbformat": 4,
 "nbformat_minor": 4
}
